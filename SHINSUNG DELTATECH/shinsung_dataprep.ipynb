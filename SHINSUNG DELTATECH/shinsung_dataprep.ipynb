{
 "cells": [
  {
   "cell_type": "code",
   "execution_count": 23,
   "id": "b8da14fc-9865-431e-b588-a29b0e336cdf",
   "metadata": {},
   "outputs": [
    {
     "name": "stderr",
     "output_type": "stream",
     "text": [
      "C:\\Users\\cogus\\anaconda3\\Lib\\site-packages\\openpyxl\\styles\\stylesheet.py:237: UserWarning: Workbook contains no default style, apply openpyxl's default\n",
      "  warn(\"Workbook contains no default style, apply openpyxl's default\")\n"
     ]
    }
   ],
   "source": [
    "import pandas as pd, numpy as np\n",
    "\n",
    "# 파일 불러오기\n",
    "file_search = \"C:/Users/cogus/Documents/seminar2025/datalab_HLB.xlsx\"\n",
    "file_stock  = \"C:/Users/cogus/Documents/seminar2025/신성델타테크.xlsx\"\n",
    "\n",
    "# 파일 읽기\n",
    "search_raw = pd.read_excel(file_search, sheet_name=\"개요\")\n",
    "stock_raw  = pd.read_excel(file_stock,  sheet_name=\"Sheet1\")"
   ]
  },
  {
   "cell_type": "code",
   "execution_count": 29,
   "id": "371ebefc-cf4e-405e-af42-05539213b691",
   "metadata": {},
   "outputs": [
    {
     "name": "stdout",
     "output_type": "stream",
     "text": [
      "        date  search_raw\n",
      "0 2023-07-16     0.31694\n",
      "1 2023-07-17     1.47350\n",
      "2 2023-07-18     1.07731\n",
      "3 2023-07-19     0.90055\n",
      "4 2023-07-20     1.37597\n"
     ]
    },
    {
     "name": "stderr",
     "output_type": "stream",
     "text": [
      "C:\\Users\\cogus\\anaconda3\\Lib\\site-packages\\openpyxl\\styles\\stylesheet.py:237: UserWarning: Workbook contains no default style, apply openpyxl's default\n",
      "  warn(\"Workbook contains no default style, apply openpyxl's default\")\n"
     ]
    }
   ],
   "source": [
    "# 검색량 날짜/볼륨 필터링\n",
    "search_trim = pd.read_excel(\"datalab_신성.xlsx\", sheet_name=\"개요\", header=6)\n",
    "search_trim = search_trim.rename(columns={\"날짜\":\"date\", \"신성델타테크\":\"search_raw\"})\n",
    "search_trim[\"date\"] = pd.to_datetime(search_trim[\"date\"])\n",
    "search_trim[\"search_raw\"] = pd.to_numeric(search_trim[\"search_raw\"], errors=\"coerce\")\n",
    "print(search_trim.head())"
   ]
  },
  {
   "cell_type": "code",
   "execution_count": 31,
   "id": "733989b2-9caf-451f-8a6e-b188650fcbeb",
   "metadata": {},
   "outputs": [],
   "source": [
    "# 주가/거래량 필터링\n",
    "stock_trim = stock_raw.rename(columns={\"일자\":\"date\",\"거래량\":\"volume\",\"종가\":\"close\"}).copy()\n",
    "stock_trim[\"date\"] = pd.to_datetime(stock_trim[\"date\"], format=\"%Y/%m/%d\", errors=\"coerce\")\n",
    "stock_trim[\"volume\"] = (\n",
    "    stock_trim[\"volume\"].astype(str).str.replace(\",\", \"\", regex=False)\n",
    "    .astype(float).astype(\"Int64\")\n",
    ")\n",
    "stock_trim[\"close\"] = pd.to_numeric(stock_trim[\"close\"], errors=\"coerce\")\n",
    "stock_trim = stock_trim.dropna(subset=[\"date\",\"volume\"]).sort_values(\"date\")"
   ]
  },
  {
   "cell_type": "code",
   "execution_count": 33,
   "id": "5f7d3cb8-55ab-4f73-a01f-4d0a4457ef3b",
   "metadata": {},
   "outputs": [
    {
     "name": "stdout",
     "output_type": "stream",
     "text": [
      "          date  close   volume\n",
      "103 2023-07-17  12700  2118062\n",
      "102 2023-07-18  12230   931258\n",
      "101 2023-07-19  12170   696135\n",
      "100 2023-07-20  13190  2753471\n",
      "99  2023-07-21  13110   738183\n"
     ]
    }
   ],
   "source": [
    "print(stock_trim.head())"
   ]
  },
  {
   "cell_type": "code",
   "execution_count": 35,
   "id": "cfa39b0b-cb41-41e7-b3d6-952555f280f4",
   "metadata": {},
   "outputs": [],
   "source": [
    "# 거래일 기준으로 데이터 병합\n",
    "merged = (stock_trim[[\"date\",\"close\",\"volume\"]]\n",
    "          .merge(search_trim, on=\"date\", how=\"inner\")\n",
    "          .sort_values(\"date\").reset_index(drop=True))\n",
    "\n",
    "# 로그차분 (Granger용)\n",
    "eps = 1e-9\n",
    "merged[\"log_volume\"] = np.log(merged[\"volume\"] + eps)\n",
    "merged[\"log_search\"] = np.log(merged[\"search_raw\"] + eps)\n",
    "merged[\"dlog_volume\"] = merged[\"log_volume\"].diff()\n",
    "merged[\"dlog_search\"] = merged[\"log_search\"].diff()\n",
    "\n",
    "granger_ready = merged.dropna(subset=[\"dlog_volume\",\"dlog_search\"]).reset_index(drop=True)"
   ]
  },
  {
   "cell_type": "code",
   "execution_count": 39,
   "id": "b4235618-6000-47b1-a294-441636490ffe",
   "metadata": {},
   "outputs": [
    {
     "name": "stdout",
     "output_type": "stream",
     "text": [
      "        date  close   volume  search_raw  log_volume  log_search  dlog_volume  \\\n",
      "0 2023-07-17  12700  2118062     1.47350   14.566012    0.387641         <NA>   \n",
      "1 2023-07-18  12230   931258     1.07731   13.744292    0.074467     -0.82172   \n",
      "2 2023-07-19  12170   696135     0.90055   13.453299   -0.104750    -0.290993   \n",
      "3 2023-07-20  13190  2753471     1.37597   14.828373    0.319159     1.375074   \n",
      "4 2023-07-21  13110   738183     1.04836   13.511947    0.047227    -1.316426   \n",
      "\n",
      "   dlog_search  \n",
      "0          NaN  \n",
      "1    -0.313173  \n",
      "2    -0.179217  \n",
      "3     0.423909  \n",
      "4    -0.271932  \n",
      "        date  close   volume  search_raw  log_volume  log_search  dlog_volume  \\\n",
      "0 2023-07-18  12230   931258     1.07731   13.744292    0.074467     -0.82172   \n",
      "1 2023-07-19  12170   696135     0.90055   13.453299   -0.104750    -0.290993   \n",
      "2 2023-07-20  13190  2753471     1.37597   14.828373    0.319159     1.375074   \n",
      "3 2023-07-21  13110   738183     1.04836   13.511947    0.047227    -1.316426   \n",
      "4 2023-07-24  13450  1463509     1.09103   14.196348    0.087122       0.6844   \n",
      "\n",
      "   dlog_search  \n",
      "0    -0.313173  \n",
      "1    -0.179217  \n",
      "2     0.423909  \n",
      "3    -0.271932  \n",
      "4     0.039895  \n"
     ]
    }
   ],
   "source": [
    "print(merged.head())\n",
    "print(granger_ready.head())"
   ]
  },
  {
   "cell_type": "code",
   "execution_count": 43,
   "id": "122f8dba-5f89-4a1e-888e-909dc9886a6e",
   "metadata": {},
   "outputs": [],
   "source": [
    "# 데이터 저장~ 했는데 어디갔지 ㅅㅂ\n",
    "merged.to_csv(\"신성델타테크_검색량_거래량_머지_raw.csv\", index=False)\n",
    "granger_ready.to_csv(\"신성델타테크_검색량_거래량_Granger용_dlog.csv\", index=False)"
   ]
  },
  {
   "cell_type": "code",
   "execution_count": 41,
   "id": "be056d7e-c631-44be-8cc1-b450f2471f59",
   "metadata": {},
   "outputs": [
    {
     "data": {
      "text/plain": [
       "'C:\\\\Users\\\\cogus\\\\Documents\\\\seminar2025'"
      ]
     },
     "execution_count": 41,
     "metadata": {},
     "output_type": "execute_result"
    }
   ],
   "source": [
    "# (번외)디렉토리 설정만 잘 해도 뭔가 해결이 되는 경우가 많음\n",
    "import os\n",
    "os.getcwd()"
   ]
  },
  {
   "cell_type": "code",
   "execution_count": 17,
   "id": "db6044ef-4a9f-4079-823f-fc4ea910bbb8",
   "metadata": {},
   "outputs": [
    {
     "name": "stdout",
     "output_type": "stream",
     "text": [
      "C:\\Users\\cogus\\Documents\\seminar2025\n"
     ]
    }
   ],
   "source": [
    "os.chdir(\"C:/Users/cogus/Documents/seminar2025\")\n",
    "print(os.getcwd())"
   ]
  }
 ],
 "metadata": {
  "kernelspec": {
   "display_name": "Python 3 (ipykernel)",
   "language": "python",
   "name": "python3"
  },
  "language_info": {
   "codemirror_mode": {
    "name": "ipython",
    "version": 3
   },
   "file_extension": ".py",
   "mimetype": "text/x-python",
   "name": "python",
   "nbconvert_exporter": "python",
   "pygments_lexer": "ipython3",
   "version": "3.12.7"
  }
 },
 "nbformat": 4,
 "nbformat_minor": 5
}
